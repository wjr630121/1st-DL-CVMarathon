{
 "cells": [
  {
   "cell_type": "markdown",
   "metadata": {},
   "source": [
    "## 『本次練習內容』\n",
    "#### 運用這幾天所學觀念搭建一個CNN分類器"
   ]
  },
  {
   "cell_type": "markdown",
   "metadata": {},
   "source": [
    "## 『本次練習目的』\n",
    "  #### 熟悉CNN分類器搭建步驟與原理\n",
    "  #### 學員們可以嘗試不同搭法，如使用不同的Maxpooling層，用GlobalAveragePooling取代Flatten等等"
   ]
  },
  {
   "cell_type": "code",
   "execution_count": 1,
   "metadata": {},
   "outputs": [
    {
     "name": "stderr",
     "output_type": "stream",
     "text": [
      "Using TensorFlow backend.\n"
     ]
    }
   ],
   "source": [
    "from keras.models import Sequential\n",
    "from keras.layers import Convolution2D\n",
    "from keras.layers import MaxPooling2D\n",
    "from keras.layers import Flatten\n",
    "from keras.layers import Dense\n",
    "from keras.layers import Dropout\n",
    "from keras.layers import BatchNormalization\n",
    "from keras.datasets import cifar10\n",
    "import numpy as np\n",
    "import tensorflow as tf\n",
    "from sklearn.preprocessing import OneHotEncoder\n"
   ]
  },
  {
   "cell_type": "code",
   "execution_count": 2,
   "metadata": {},
   "outputs": [
    {
     "name": "stdout",
     "output_type": "stream",
     "text": [
      "(50000, 32, 32, 3)\n"
     ]
    }
   ],
   "source": [
    "(x_train, y_train), (x_test, y_test) = cifar10.load_data()\n",
    "\n",
    "print(x_train.shape) #(50000, 32, 32, 3)\n",
    "\n",
    "## Normalize Data\n",
    "def normalize(X_train,X_test):\n",
    "        mean = np.mean(X_train,axis=(0,1,2,3))\n",
    "        std = np.std(X_train, axis=(0, 1, 2, 3))\n",
    "        X_train = (X_train-mean)/(std+1e-7)\n",
    "        X_test = (X_test-mean)/(std+1e-7) \n",
    "        return X_train, X_test,mean,std\n",
    "    \n",
    "    \n",
    "## Normalize Training and Testset    \n",
    "x_train, x_test,mean_train,std_train = normalize(x_train, x_test) "
   ]
  },
  {
   "cell_type": "code",
   "execution_count": 3,
   "metadata": {},
   "outputs": [
    {
     "name": "stderr",
     "output_type": "stream",
     "text": [
      "C:\\Users\\wjr63\\Anaconda3\\lib\\site-packages\\sklearn\\preprocessing\\_encoders.py:415: FutureWarning: The handling of integer data will change in version 0.22. Currently, the categories are determined based on the range [0, max(values)], while in the future they will be determined based on the unique values.\n",
      "If you want the future behaviour and silence this warning, you can specify \"categories='auto'\".\n",
      "In case you used a LabelEncoder before this OneHotEncoder to convert the categories to integers, then you can now use the OneHotEncoder directly.\n",
      "  warnings.warn(msg, FutureWarning)\n"
     ]
    }
   ],
   "source": [
    "## OneHot Label 由(None, 1)-(None, 10)\n",
    "## ex. label=2,變成[0,0,1,0,0,0,0,0,0,0]\n",
    "one_hot=OneHotEncoder()\n",
    "y_train=one_hot.fit_transform(y_train).toarray()\n",
    "y_test=one_hot.transform(y_test).toarray()"
   ]
  },
  {
   "cell_type": "code",
   "execution_count": 6,
   "metadata": {
    "scrolled": true
   },
   "outputs": [
    {
     "name": "stderr",
     "output_type": "stream",
     "text": [
      "C:\\Users\\wjr63\\Anaconda3\\lib\\site-packages\\ipykernel_launcher.py:4: UserWarning: Update your `Conv2D` call to the Keras 2 API: `Conv2D(32, (3, 3), input_shape=(32, 32, 3..., activation=\"relu\")`\n",
      "  after removing the cwd from sys.path.\n",
      "C:\\Users\\wjr63\\Anaconda3\\lib\\site-packages\\ipykernel_launcher.py:8: UserWarning: Update your `Conv2D` call to the Keras 2 API: `Conv2D(64, (3, 3), activation=\"relu\")`\n",
      "  \n",
      "C:\\Users\\wjr63\\Anaconda3\\lib\\site-packages\\ipykernel_launcher.py:17: UserWarning: Update your `Dense` call to the Keras 2 API: `Dense(activation=\"relu\", units=100)`\n",
      "C:\\Users\\wjr63\\Anaconda3\\lib\\site-packages\\ipykernel_launcher.py:20: UserWarning: Update your `Dense` call to the Keras 2 API: `Dense(activation=\"softmax\", units=10)`\n"
     ]
    },
    {
     "name": "stdout",
     "output_type": "stream",
     "text": [
      "Epoch 1/100\n",
      "50000/50000 [==============================] - 9s 186us/step - loss: 1.4320 - acc: 0.5111\n",
      "Epoch 2/100\n",
      "50000/50000 [==============================] - 9s 174us/step - loss: 0.9695 - acc: 0.6590\n",
      "Epoch 3/100\n",
      "50000/50000 [==============================] - 9s 174us/step - loss: 0.7989 - acc: 0.7212\n",
      "Epoch 4/100\n",
      "50000/50000 [==============================] - 9s 175us/step - loss: 0.6716 - acc: 0.7659\n",
      "Epoch 5/100\n",
      "50000/50000 [==============================] - 9s 174us/step - loss: 0.5620 - acc: 0.8066\n",
      "Epoch 6/100\n",
      "50000/50000 [==============================] - 9s 174us/step - loss: 0.4427 - acc: 0.8473\n",
      "Epoch 7/100\n",
      "50000/50000 [==============================] - 9s 174us/step - loss: 0.3511 - acc: 0.8782\n",
      "Epoch 8/100\n",
      "50000/50000 [==============================] - 9s 174us/step - loss: 0.2686 - acc: 0.9070\n",
      "Epoch 9/100\n",
      "50000/50000 [==============================] - 9s 175us/step - loss: 0.1998 - acc: 0.9322\n",
      "Epoch 10/100\n",
      "50000/50000 [==============================] - 9s 175us/step - loss: 0.1698 - acc: 0.9419\n",
      "Epoch 11/100\n",
      "50000/50000 [==============================] - 9s 175us/step - loss: 0.1476 - acc: 0.9499\n",
      "Epoch 12/100\n",
      "50000/50000 [==============================] - 9s 175us/step - loss: 0.1159 - acc: 0.9608\n",
      "Epoch 13/100\n",
      "50000/50000 [==============================] - 9s 175us/step - loss: 0.1102 - acc: 0.9623\n",
      "Epoch 14/100\n",
      "50000/50000 [==============================] - 9s 175us/step - loss: 0.1044 - acc: 0.9638\n",
      "Epoch 15/100\n",
      "50000/50000 [==============================] - 9s 175us/step - loss: 0.0906 - acc: 0.9693\n",
      "Epoch 16/100\n",
      "50000/50000 [==============================] - 9s 175us/step - loss: 0.0858 - acc: 0.9703\n",
      "Epoch 17/100\n",
      "50000/50000 [==============================] - 9s 175us/step - loss: 0.0800 - acc: 0.9719\n",
      "Epoch 18/100\n",
      "50000/50000 [==============================] - 9s 174us/step - loss: 0.0701 - acc: 0.9764\n",
      "Epoch 19/100\n",
      "50000/50000 [==============================] - 9s 175us/step - loss: 0.0699 - acc: 0.9763\n",
      "Epoch 20/100\n",
      "50000/50000 [==============================] - 9s 175us/step - loss: 0.0729 - acc: 0.9752\n",
      "Epoch 21/100\n",
      "50000/50000 [==============================] - 9s 175us/step - loss: 0.0556 - acc: 0.9820\n",
      "Epoch 22/100\n",
      "50000/50000 [==============================] - 9s 175us/step - loss: 0.0590 - acc: 0.9802\n",
      "Epoch 23/100\n",
      "50000/50000 [==============================] - 9s 175us/step - loss: 0.0583 - acc: 0.9802\n",
      "Epoch 24/100\n",
      "50000/50000 [==============================] - 9s 175us/step - loss: 0.0602 - acc: 0.9793\n",
      "Epoch 25/100\n",
      "50000/50000 [==============================] - 9s 176us/step - loss: 0.0534 - acc: 0.9821\n",
      "Epoch 26/100\n",
      "50000/50000 [==============================] - 9s 176us/step - loss: 0.0600 - acc: 0.9815\n",
      "Epoch 27/100\n",
      "50000/50000 [==============================] - 9s 172us/step - loss: 0.0550 - acc: 0.9815\n",
      "Epoch 28/100\n",
      "50000/50000 [==============================] - 9s 176us/step - loss: 0.0435 - acc: 0.9850\n",
      "Epoch 29/100\n",
      "50000/50000 [==============================] - 9s 174us/step - loss: 0.0405 - acc: 0.9861\n",
      "Epoch 30/100\n",
      "50000/50000 [==============================] - 9s 176us/step - loss: 0.0412 - acc: 0.9865\n",
      "Epoch 31/100\n",
      "50000/50000 [==============================] - 9s 171us/step - loss: 0.0400 - acc: 0.9865\n",
      "Epoch 32/100\n",
      "50000/50000 [==============================] - 9s 177us/step - loss: 0.0444 - acc: 0.9857\n",
      "Epoch 33/100\n",
      "50000/50000 [==============================] - 9s 171us/step - loss: 0.0500 - acc: 0.9843\n",
      "Epoch 34/100\n",
      "50000/50000 [==============================] - 9s 172us/step - loss: 0.0375 - acc: 0.9878\n",
      "Epoch 35/100\n",
      "50000/50000 [==============================] - 9s 174us/step - loss: 0.0361 - acc: 0.9883\n",
      "Epoch 36/100\n",
      "50000/50000 [==============================] - 9s 179us/step - loss: 0.0269 - acc: 0.9909\n",
      "Epoch 37/100\n",
      "50000/50000 [==============================] - 9s 174us/step - loss: 0.0390 - acc: 0.9874\n",
      "Epoch 38/100\n",
      "50000/50000 [==============================] - 9s 177us/step - loss: 0.0413 - acc: 0.9865\n",
      "Epoch 39/100\n",
      "50000/50000 [==============================] - 9s 177us/step - loss: 0.0361 - acc: 0.9883\n",
      "Epoch 40/100\n",
      "50000/50000 [==============================] - 9s 176us/step - loss: 0.0290 - acc: 0.9904\n",
      "Epoch 41/100\n",
      "50000/50000 [==============================] - 9s 176us/step - loss: 0.0372 - acc: 0.9881\n",
      "Epoch 42/100\n",
      "50000/50000 [==============================] - 9s 176us/step - loss: 0.0299 - acc: 0.9895\n",
      "Epoch 43/100\n",
      "50000/50000 [==============================] - 9s 172us/step - loss: 0.0368 - acc: 0.9887\n",
      "Epoch 44/100\n",
      "50000/50000 [==============================] - 9s 170us/step - loss: 0.0329 - acc: 0.9888\n",
      "Epoch 45/100\n",
      "50000/50000 [==============================] - 8s 170us/step - loss: 0.0331 - acc: 0.9897\n",
      "Epoch 46/100\n",
      "50000/50000 [==============================] - 8s 169us/step - loss: 0.0307 - acc: 0.9905\n",
      "Epoch 47/100\n",
      "50000/50000 [==============================] - 8s 169us/step - loss: 0.0274 - acc: 0.9908\n",
      "Epoch 48/100\n",
      "50000/50000 [==============================] - 8s 170us/step - loss: 0.0229 - acc: 0.9922\n",
      "Epoch 49/100\n",
      "50000/50000 [==============================] - 8s 169us/step - loss: 0.0244 - acc: 0.9923\n",
      "Epoch 50/100\n",
      "50000/50000 [==============================] - 8s 169us/step - loss: 0.0286 - acc: 0.9911\n",
      "Epoch 51/100\n",
      "50000/50000 [==============================] - 8s 169us/step - loss: 0.0265 - acc: 0.9917\n",
      "Epoch 52/100\n",
      "50000/50000 [==============================] - 8s 169us/step - loss: 0.0307 - acc: 0.9901\n",
      "Epoch 53/100\n",
      "50000/50000 [==============================] - 8s 170us/step - loss: 0.0327 - acc: 0.9898\n",
      "Epoch 54/100\n",
      "50000/50000 [==============================] - 8s 169us/step - loss: 0.0275 - acc: 0.9915\n",
      "Epoch 55/100\n",
      "50000/50000 [==============================] - 8s 169us/step - loss: 0.0301 - acc: 0.9910\n",
      "Epoch 56/100\n",
      "50000/50000 [==============================] - 8s 170us/step - loss: 0.0294 - acc: 0.9909\n",
      "Epoch 57/100\n",
      "50000/50000 [==============================] - 8s 170us/step - loss: 0.0167 - acc: 0.9945\n",
      "Epoch 58/100\n",
      "50000/50000 [==============================] - 8s 169us/step - loss: 0.0188 - acc: 0.9939\n",
      "Epoch 59/100\n",
      "50000/50000 [==============================] - 8s 169us/step - loss: 0.0219 - acc: 0.9928\n",
      "Epoch 60/100\n",
      "50000/50000 [==============================] - 8s 170us/step - loss: 0.0290 - acc: 0.9911\n",
      "Epoch 61/100\n",
      "50000/50000 [==============================] - 8s 169us/step - loss: 0.0291 - acc: 0.9912\n",
      "Epoch 62/100\n",
      "50000/50000 [==============================] - 8s 170us/step - loss: 0.0250 - acc: 0.9926\n",
      "Epoch 63/100\n",
      "50000/50000 [==============================] - 9s 171us/step - loss: 0.0246 - acc: 0.9923\n",
      "Epoch 64/100\n",
      "50000/50000 [==============================] - 8s 170us/step - loss: 0.0148 - acc: 0.9950\n",
      "Epoch 65/100\n",
      "50000/50000 [==============================] - 8s 170us/step - loss: 0.0223 - acc: 0.9933\n",
      "Epoch 66/100\n",
      "50000/50000 [==============================] - 8s 169us/step - loss: 0.0231 - acc: 0.9930\n",
      "Epoch 67/100\n",
      "50000/50000 [==============================] - 8s 169us/step - loss: 0.0187 - acc: 0.9941\n",
      "Epoch 68/100\n",
      "50000/50000 [==============================] - 8s 169us/step - loss: 0.0185 - acc: 0.9947\n",
      "Epoch 69/100\n",
      "50000/50000 [==============================] - 8s 170us/step - loss: 0.0241 - acc: 0.9924\n",
      "Epoch 70/100\n",
      "50000/50000 [==============================] - 8s 169us/step - loss: 0.0251 - acc: 0.9923\n",
      "Epoch 71/100\n",
      "50000/50000 [==============================] - 8s 169us/step - loss: 0.0199 - acc: 0.9938\n",
      "Epoch 72/100\n",
      "50000/50000 [==============================] - 9s 170us/step - loss: 0.0196 - acc: 0.9937\n",
      "Epoch 73/100\n",
      "50000/50000 [==============================] - 9s 178us/step - loss: 0.0140 - acc: 0.9953\n",
      "Epoch 74/100\n",
      "50000/50000 [==============================] - 9s 174us/step - loss: 0.0172 - acc: 0.9945\n",
      "Epoch 75/100\n",
      "50000/50000 [==============================] - 9s 178us/step - loss: 0.0245 - acc: 0.9922\n",
      "Epoch 76/100\n",
      "50000/50000 [==============================] - 9s 178us/step - loss: 0.0237 - acc: 0.9930\n",
      "Epoch 77/100\n",
      "50000/50000 [==============================] - 9s 172us/step - loss: 0.0227 - acc: 0.9934\n",
      "Epoch 78/100\n",
      "50000/50000 [==============================] - 8s 170us/step - loss: 0.0137 - acc: 0.9955\n",
      "Epoch 79/100\n",
      "50000/50000 [==============================] - 9s 170us/step - loss: 0.0133 - acc: 0.9960\n",
      "Epoch 80/100\n"
     ]
    },
    {
     "name": "stdout",
     "output_type": "stream",
     "text": [
      "50000/50000 [==============================] - 9s 170us/step - loss: 0.0247 - acc: 0.9924\n",
      "Epoch 81/100\n",
      "50000/50000 [==============================] - 8s 170us/step - loss: 0.0213 - acc: 0.9940\n",
      "Epoch 82/100\n",
      "50000/50000 [==============================] - 8s 170us/step - loss: 0.0149 - acc: 0.9957\n",
      "Epoch 83/100\n",
      "50000/50000 [==============================] - 9s 170us/step - loss: 0.0130 - acc: 0.9958\n",
      "Epoch 84/100\n",
      "50000/50000 [==============================] - 9s 171us/step - loss: 0.0189 - acc: 0.9945\n",
      "Epoch 85/100\n",
      "50000/50000 [==============================] - 9s 171us/step - loss: 0.0240 - acc: 0.9932\n",
      "Epoch 86/100\n",
      "50000/50000 [==============================] - 9s 171us/step - loss: 0.0146 - acc: 0.9954\n",
      "Epoch 87/100\n",
      "50000/50000 [==============================] - 9s 174us/step - loss: 0.0138 - acc: 0.9956\n",
      "Epoch 88/100\n",
      "50000/50000 [==============================] - 9s 174us/step - loss: 0.0110 - acc: 0.9961\n",
      "Epoch 89/100\n",
      "50000/50000 [==============================] - 9s 173us/step - loss: 0.0211 - acc: 0.9937\n",
      "Epoch 90/100\n",
      "50000/50000 [==============================] - 9s 171us/step - loss: 0.0192 - acc: 0.9944\n",
      "Epoch 91/100\n",
      "50000/50000 [==============================] - 9s 176us/step - loss: 0.0199 - acc: 0.9943\n",
      "Epoch 92/100\n",
      "50000/50000 [==============================] - 9s 175us/step - loss: 0.0173 - acc: 0.9945\n",
      "Epoch 93/100\n",
      "50000/50000 [==============================] - 9s 175us/step - loss: 0.0129 - acc: 0.9959\n",
      "Epoch 94/100\n",
      "50000/50000 [==============================] - 9s 176us/step - loss: 0.0166 - acc: 0.9952\n",
      "Epoch 95/100\n",
      "50000/50000 [==============================] - 9s 176us/step - loss: 0.0233 - acc: 0.9935\n",
      "Epoch 96/100\n",
      "50000/50000 [==============================] - 9s 175us/step - loss: 0.0191 - acc: 0.9945\n",
      "Epoch 97/100\n",
      "50000/50000 [==============================] - 9s 176us/step - loss: 0.0126 - acc: 0.9960\n",
      "Epoch 98/100\n",
      "50000/50000 [==============================] - 9s 175us/step - loss: 0.0137 - acc: 0.9958\n",
      "Epoch 99/100\n",
      "50000/50000 [==============================] - 9s 175us/step - loss: 0.0089 - acc: 0.9974\n",
      "Epoch 100/100\n",
      "50000/50000 [==============================] - 9s 176us/step - loss: 0.0195 - acc: 0.9942\n"
     ]
    },
    {
     "data": {
      "text/plain": [
       "<keras.callbacks.History at 0x24139b96b70>"
      ]
     },
     "execution_count": 6,
     "metadata": {},
     "output_type": "execute_result"
    }
   ],
   "source": [
    "\n",
    "classifier=Sequential()\n",
    "\n",
    "#卷積組合\n",
    "classifier.add(Convolution2D(32,3,3,input_shape=(32,32,3),activation='relu'))#32,3,3,input_shape=(3O2,32,3),activation='relu''\n",
    "classifier.add(BatchNormalization(epsilon=1e-06,momentum=0.9))\n",
    "\n",
    "#卷積組合\n",
    "classifier.add(Convolution2D(64,3,3,activation='relu'))\n",
    "classifier.add(BatchNormalization(epsilon=1e-06,momentum=0.9))\n",
    "\n",
    "classifier.add(MaxPooling2D(pool_size=(2,2)))\n",
    "\n",
    "#flatten\n",
    "classifier.add(Flatten())\n",
    "\n",
    "#FC\n",
    "classifier.add(Dense(output_dim=100,activation='relu')) #output_dim=100,activation=relu\n",
    "\n",
    "#輸出\n",
    "classifier.add(Dense(output_dim=10,activation='softmax'))\n",
    "\n",
    "#超過兩個就要選categorical_crossentrophy\n",
    "classifier.compile(optimizer = 'adam', loss = 'categorical_crossentropy', metrics = ['accuracy'])\n",
    "classifier.fit(x_train,y_train,batch_size=100,epochs=100)\n"
   ]
  },
  {
   "cell_type": "markdown",
   "metadata": {},
   "source": [
    "## 預測新圖片，輸入影像前處理要與訓練時相同\n",
    "#### ((X-mean)/(std+1e-7) ):這裡的mean跟std是訓練集的\n",
    "## 維度如下方示範"
   ]
  },
  {
   "cell_type": "code",
   "execution_count": 7,
   "metadata": {},
   "outputs": [
    {
     "data": {
      "text/plain": [
       "array([[2.6411832e-20, 0.0000000e+00, 7.2426727e-18, 1.0000000e+00,\n",
       "        9.2226525e-11, 0.0000000e+00, 5.4913077e-16, 8.5737878e-20,\n",
       "        5.4796353e-22, 0.0000000e+00]], dtype=float32)"
      ]
     },
     "execution_count": 7,
     "metadata": {},
     "output_type": "execute_result"
    }
   ],
   "source": [
    "input_example=(np.zeros(shape=(1,32,32,3))-mean_train)/(std_train+1e-7) \n",
    "classifier.predict(input_example)"
   ]
  },
  {
   "cell_type": "code",
   "execution_count": null,
   "metadata": {},
   "outputs": [],
   "source": []
  }
 ],
 "metadata": {
  "kernelspec": {
   "display_name": "Python 3",
   "language": "python",
   "name": "python3"
  },
  "language_info": {
   "codemirror_mode": {
    "name": "ipython",
    "version": 3
   },
   "file_extension": ".py",
   "mimetype": "text/x-python",
   "name": "python",
   "nbconvert_exporter": "python",
   "pygments_lexer": "ipython3",
   "version": "3.7.3"
  }
 },
 "nbformat": 4,
 "nbformat_minor": 2
}
